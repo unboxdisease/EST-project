{
 "cells": [
  {
   "cell_type": "code",
   "execution_count": 2,
   "id": "b7a00371-d3e6-480b-9802-6bed04309a9c",
   "metadata": {},
   "outputs": [],
   "source": [
    "import ee\n",
    "import geemap"
   ]
  },
  {
   "cell_type": "code",
   "execution_count": 3,
   "id": "4f680f45-520c-4bb5-8f16-82eb1da27e65",
   "metadata": {},
   "outputs": [
    {
     "data": {
      "text/html": [
       "<p>To authorize access needed by Earth Engine, open the following\n",
       "        URL in a web browser and follow the instructions:</p>\n",
       "        <p><a href=https://code.earthengine.google.com/client-auth?scopes=https%3A//www.googleapis.com/auth/earthengine%20https%3A//www.googleapis.com/auth/devstorage.full_control&request_id=uT9YPv98C5_R0gBtTRu55A18cSAiCRdZ4j3BEC4GAiE&tc=jC4-Og5rsw77sdiQ5VVwbgjMqGYK6isPT1m6Z2xmGOc&cc=kUKMzNP-8IcW7xY8mr8003Qh-0dSJRJrjsiQpwHIJ74>https://code.earthengine.google.com/client-auth?scopes=https%3A//www.googleapis.com/auth/earthengine%20https%3A//www.googleapis.com/auth/devstorage.full_control&request_id=uT9YPv98C5_R0gBtTRu55A18cSAiCRdZ4j3BEC4GAiE&tc=jC4-Og5rsw77sdiQ5VVwbgjMqGYK6isPT1m6Z2xmGOc&cc=kUKMzNP-8IcW7xY8mr8003Qh-0dSJRJrjsiQpwHIJ74</a></p>\n",
       "        <p>The authorization workflow will generate a code, which you should paste in the box below.</p>\n",
       "        "
      ],
      "text/plain": [
       "<IPython.core.display.HTML object>"
      ]
     },
     "metadata": {},
     "output_type": "display_data"
    },
    {
     "name": "stdin",
     "output_type": "stream",
     "text": [
      "Enter verification code:  4/1ARtbsJqecMz-mxJnOaROQQKGIRbokS7t8bPRMkgXjdAaX2lfEHjihqv4TYk\n"
     ]
    },
    {
     "name": "stdout",
     "output_type": "stream",
     "text": [
      "\n",
      "Successfully saved authorization token.\n"
     ]
    }
   ],
   "source": [
    "Map = geemap.Map()"
   ]
  },
  {
   "cell_type": "code",
   "execution_count": 6,
   "id": "9af4b055-c4c5-4413-9bc7-a0c169d06bd4",
   "metadata": {},
   "outputs": [
    {
     "data": {
      "application/vnd.jupyter.widget-view+json": {
       "model_id": "11d95cd75e6d40df9eceeaea450e6be7",
       "version_major": 2,
       "version_minor": 0
      },
      "text/plain": [
       "Map(center=[20, 0], controls=(WidgetControl(options=['position', 'transparent_bg'], widget=HBox(children=(Togg…"
      ]
     },
     "metadata": {},
     "output_type": "display_data"
    }
   ],
   "source": [
    "import os\n",
    "import ipywidgets as widgets\n",
    "Map.add_basemap('HYBRID')\n",
    "Map"
   ]
  },
  {
   "cell_type": "code",
   "execution_count": null,
   "id": "96c79686-5639-4077-aa1e-ea7fe354712e",
   "metadata": {},
   "outputs": [],
   "source": []
  }
 ],
 "metadata": {
  "kernelspec": {
   "display_name": "Python 3 (ipykernel)",
   "language": "python",
   "name": "python3"
  },
  "language_info": {
   "codemirror_mode": {
    "name": "ipython",
    "version": 3
   },
   "file_extension": ".py",
   "mimetype": "text/x-python",
   "name": "python",
   "nbconvert_exporter": "python",
   "pygments_lexer": "ipython3",
   "version": "3.8.8"
  }
 },
 "nbformat": 4,
 "nbformat_minor": 5
}
