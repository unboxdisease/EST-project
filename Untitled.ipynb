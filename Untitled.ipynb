{
 "cells": [
  {
   "cell_type": "code",
   "execution_count": 31,
   "id": "b7a00371-d3e6-480b-9802-6bed04309a9c",
   "metadata": {},
   "outputs": [],
   "source": [
    "import ee\n",
    "import geemap"
   ]
  },
  {
   "cell_type": "code",
   "execution_count": 32,
   "id": "4f680f45-520c-4bb5-8f16-82eb1da27e65",
   "metadata": {},
   "outputs": [],
   "source": [
    "Map = geemap.Map()"
   ]
  },
  {
   "cell_type": "code",
   "execution_count": 33,
   "id": "9af4b055-c4c5-4413-9bc7-a0c169d06bd4",
   "metadata": {},
   "outputs": [
    {
     "data": {
      "application/vnd.jupyter.widget-view+json": {
       "model_id": "e6f83470e25640f1a26d352b84c78270",
       "version_major": 2,
       "version_minor": 0
      },
      "text/plain": [
       "Map(center=[20, 0], controls=(WidgetControl(options=['position', 'transparent_bg'], widget=HBox(children=(Togg…"
      ]
     },
     "metadata": {},
     "output_type": "display_data"
    }
   ],
   "source": [
    "import os\n",
    "import ipywidgets as widgets\n",
    "Map.add_basemap('HYBRID')\n",
    "Map"
   ]
  },
  {
   "cell_type": "code",
   "execution_count": 34,
   "id": "96c79686-5639-4077-aa1e-ea7fe354712e",
   "metadata": {},
   "outputs": [
    {
     "data": {
      "application/vnd.jupyter.widget-view+json": {
       "model_id": "9d977638944b41af8c289f8d23a0b838",
       "version_major": 2,
       "version_minor": 0
      },
      "text/plain": [
       "HBox(children=(Text(value='Landsat Timelapse', description='Title:', style=DescriptionStyle(description_width=…"
      ]
     },
     "metadata": {},
     "output_type": "display_data"
    }
   ],
   "source": [
    "style = {'description_width': 'initial'}\n",
    "title = widgets.Text(\n",
    "    description='Title:', value='Landsat Timelapse', width=200, style=style\n",
    ")\n",
    "\n",
    "bands = widgets.Dropdown(\n",
    "    description='Select RGB Combo:',\n",
    "    options=[\n",
    "        'Red/Green/Blue',\n",
    "        'NIR/Red/Green',\n",
    "        'SWIR2/SWIR1/NIR',\n",
    "        'NIR/SWIR1/Red',\n",
    "        'SWIR2/NIR/Red',\n",
    "        'SWIR2/SWIR1/Red',\n",
    "        'SWIR1/NIR/Blue',\n",
    "        'NIR/SWIR1/Blue',\n",
    "        'SWIR2/NIR/Green',\n",
    "        'SWIR1/NIR/Red',\n",
    "    ],\n",
    "    value='SWIR2/NIR/Green',\n",
    "    style=style,\n",
    ")\n",
    "\n",
    "hbox1 = widgets.HBox([title, bands])\n",
    "hbox1"
   ]
  },
  {
   "cell_type": "code",
   "execution_count": 35,
   "id": "cba91d3d",
   "metadata": {},
   "outputs": [
    {
     "data": {
      "application/vnd.jupyter.widget-view+json": {
       "model_id": "f0a0c0d97b1e436aab279148a66c17ec",
       "version_major": 2,
       "version_minor": 0
      },
      "text/plain": [
       "HBox(children=(IntSlider(value=4, description='  Frames per second:', max=30, min=1, style=SliderStyle(descrip…"
      ]
     },
     "metadata": {},
     "output_type": "display_data"
    }
   ],
   "source": [
    "speed = widgets.IntSlider(\n",
    "    description='  Frames per second:',\n",
    "    tooltip='Frames per second:',\n",
    "    value=4,\n",
    "    min=1,\n",
    "    max=30,\n",
    "    style=style,\n",
    ")\n",
    "\n",
    "cloud = widgets.Checkbox(\n",
    "    value=True, Apply_fmask=  (water masking), style=style\n",
    ")\n",
    "\n",
    "hbox2 = widgets.HBox([speed, cloud])\n",
    "hbox2"
   ]
  },
  {
   "cell_type": "code",
   "execution_count": 36,
   "id": "cb5de0a2",
   "metadata": {},
   "outputs": [
    {
     "data": {
      "application/vnd.jupyter.widget-view+json": {
       "model_id": "f25c2d6d7afe4a13824af441d25cf08e",
       "version_major": 2,
       "version_minor": 0
      },
      "text/plain": [
       "HBox(children=(IntSlider(value=1984, description='Start Year:', max=2020, min=1984, style=SliderStyle(descript…"
      ]
     },
     "metadata": {},
     "output_type": "display_data"
    }
   ],
   "source": [
    "start_year = widgets.IntSlider(\n",
    "    description='Start Year:', value=1984, min=1984, max=2020, style=style\n",
    ")\n",
    "end_year = widgets.IntSlider(\n",
    "    description='End Year:', value=2020, min=1984, max=2020, style=style\n",
    ")\n",
    "start_month = widgets.IntSlider(\n",
    "    description='Start Month:', value=5, min=1, max=12, style=style\n",
    ")\n",
    "end_month = widgets.IntSlider(\n",
    "    description='End Month:', value=10, min=1, max=12, style=style\n",
    ")\n",
    "hbox3 = widgets.HBox([start_year, end_year, start_month, end_month])\n",
    "hbox3"
   ]
  },
  {
   "cell_type": "code",
   "execution_count": 37,
   "id": "4b470a74",
   "metadata": {},
   "outputs": [
    {
     "data": {
      "application/vnd.jupyter.widget-view+json": {
       "model_id": "3682463965764afda4a59bff10adda6d",
       "version_major": 2,
       "version_minor": 0
      },
      "text/plain": [
       "HBox(children=(IntSlider(value=30, description='Font size:', max=50, min=10, style=SliderStyle(description_wid…"
      ]
     },
     "metadata": {},
     "output_type": "display_data"
    }
   ],
   "source": [
    "font_size = widgets.IntSlider(\n",
    "    description='Font size:', value=30, min=10, max=50, style=style\n",
    ")\n",
    "\n",
    "font_color = widgets.ColorPicker(\n",
    "    concise=False, description='Font color:', value='white', style=style\n",
    ")\n",
    "\n",
    "progress_bar_color = widgets.ColorPicker(\n",
    "    concise=False, description='Progress bar color:', value='blue', style=style\n",
    ")\n",
    "\n",
    "hbox4 = widgets.HBox([font_size, font_color, progress_bar_color])\n",
    "hbox4\n"
   ]
  },
  {
   "cell_type": "code",
   "execution_count": 38,
   "id": "db4a9737",
   "metadata": {},
   "outputs": [
    {
     "data": {
      "application/vnd.jupyter.widget-view+json": {
       "model_id": "6fcf07d29d6d4b6ca5e65f35f2ba688f",
       "version_major": 2,
       "version_minor": 0
      },
      "text/plain": [
       "HBox(children=(Button(button_style='primary', description='Create timelapse', style=ButtonStyle(), tooltip='Cl…"
      ]
     },
     "metadata": {},
     "output_type": "display_data"
    }
   ],
   "source": [
    "create_gif = widgets.Button(\n",
    "    description='Create timelapse',\n",
    "    button_style='primary',\n",
    "    tooltip='Click to create timelapse',\n",
    "    style=style,\n",
    ")\n",
    "\n",
    "download_gif = widgets.Button(\n",
    "    description='Download GIF',\n",
    "    button_style='primary',\n",
    "    tooltip='Click to download timelapse',\n",
    "    disabled=False,\n",
    "    style=style,\n",
    ")\n",
    "\n",
    "output = widgets.Output()\n",
    "\n",
    "hbox5 = widgets.HBox([create_gif,download_gif])\n",
    "hbox5"
   ]
  },
  {
   "cell_type": "code",
   "execution_count": 39,
   "id": "dc7ebb73",
   "metadata": {},
   "outputs": [
    {
     "data": {
      "application/vnd.jupyter.widget-view+json": {
       "model_id": "45a5a330afe143c9bfb8f17636815c7f",
       "version_major": 2,
       "version_minor": 0
      },
      "text/plain": [
       "Output()"
      ]
     },
     "metadata": {},
     "output_type": "display_data"
    }
   ],
   "source": [
    "def submit_clicked(b):\n",
    "\n",
    "    with output:\n",
    "        vis_params = {\n",
    "            'bands': ['B5', 'B4', 'B3'],\n",
    "            'min': 0,\n",
    "            'max': 6000,\n",
    "            'gamma': 1.4,\n",
    "        }\n",
    "        output.clear_output()\n",
    "        if start_year.value > end_year.value:\n",
    "            print('The end year must be great than the start year.')\n",
    "            return\n",
    "        if start_month.value > end_month.value:\n",
    "            print('The end month must be great than the start month.')\n",
    "            return\n",
    "        if start_year.value == end_year.value:\n",
    "            add_progress_bar = False\n",
    "        else:\n",
    "            add_progress_bar = True\n",
    "\n",
    "        start_date = str(start_month.value).zfill(2) + '-01'\n",
    "        end_date = str(end_month.value).zfill(2) + '-30'\n",
    "\n",
    "        print('Computing...')\n",
    "\n",
    "        Map.add_landsat_ts_gif(\n",
    "            label=label,\n",
    "            start_year=start_year,\n",
    "            start_date=start_date,\n",
    "            end_date=end_date,\n",
    "            bands=['SWIR1', 'NIR', 'Red'],\n",
    "            font_color='white',\n",
    "            frames_per_second=,\n",
    "            progress_bar_color='blue',\n",
    "        )\n",
    "\n",
    "\n",
    "create_gif.on_click(submit_clicked)\n",
    "output"
   ]
  },
  {
   "cell_type": "code",
   "execution_count": null,
   "id": "a215dbfc",
   "metadata": {},
   "outputs": [],
   "source": []
  },
  {
   "cell_type": "code",
   "execution_count": null,
   "id": "e1e99fba",
   "metadata": {},
   "outputs": [],
   "source": []
  },
  {
   "cell_type": "code",
   "execution_count": null,
   "id": "29ac58cf",
   "metadata": {},
   "outputs": [],
   "source": []
  }
 ],
 "metadata": {
  "kernelspec": {
   "display_name": "Python 3 (ipykernel)",
   "language": "python",
   "name": "python3"
  },
  "language_info": {
   "codemirror_mode": {
    "name": "ipython",
    "version": 3
   },
   "file_extension": ".py",
   "mimetype": "text/x-python",
   "name": "python",
   "nbconvert_exporter": "python",
   "pygments_lexer": "ipython3",
   "version": "3.8.8"
  }
 },
 "nbformat": 4,
 "nbformat_minor": 5
}
